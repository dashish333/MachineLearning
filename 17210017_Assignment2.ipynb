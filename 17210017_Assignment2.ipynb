{
 "cells": [
  {
   "cell_type": "code",
   "execution_count": null,
   "metadata": {},
   "outputs": [],
   "source": []
  },
  {
   "cell_type": "raw",
   "metadata": {},
   "source": [
    "## Facts and Knowledge\n",
    "\n",
    "Receiver Operating Characteristic (ROC) metric to evaluate classifier output quality using cross-validation. <br>\n",
    "ROC curves typically feature true positive rate on the Y axis, and false positive rate on the X axis.<br>\n",
    "\n"
   ]
  },
  {
   "cell_type": "code",
   "execution_count": null,
   "metadata": {},
   "outputs": [],
   "source": []
  },
  {
   "cell_type": "markdown",
   "metadata": {},
   "source": [
    "### Importing the libraries"
   ]
  },
  {
   "cell_type": "code",
   "execution_count": 13,
   "metadata": {},
   "outputs": [],
   "source": [
    "import pandas as pd\n",
    "import numpy as np\n",
    "from sklearn.tree import DecisionTreeClassifier,export_graphviz ##Export a decision tree in DOT format\n",
    "from sklearn.model_selection import train_test_split ##Split arrays or matrices into random train and test subsets\n",
    "from sklearn.metrics import accuracy_score,confusion_matrix,f1_score,roc_curve,precision_score,recall_score"
   ]
  },
  {
   "cell_type": "markdown",
   "metadata": {},
   "source": [
    "#### Few More Imports"
   ]
  },
  {
   "cell_type": "code",
   "execution_count": 14,
   "metadata": {},
   "outputs": [],
   "source": [
    "import io\n",
    "from sklearn.tree import export_graphviz\n",
    "from sklearn.linear_model import LogisticRegression\n",
    "from sklearn.svm import SVC\n",
    "from sklearn.neighbors import KNeighborsClassifier\n",
    "from matplotlib import pyplot as plt\n",
    "import seaborn as sb\n",
    "from sklearn.datasets import load_digits\n",
    "\n",
    "%matplotlib inline\n"
   ]
  },
  {
   "cell_type": "markdown",
   "metadata": {},
   "source": [
    "#### PreProcessing imports"
   ]
  },
  {
   "cell_type": "code",
   "execution_count": 15,
   "metadata": {},
   "outputs": [],
   "source": [
    "from sklearn import preprocessing"
   ]
  },
  {
   "cell_type": "code",
   "execution_count": 16,
   "metadata": {},
   "outputs": [
    {
     "data": {
      "text/html": [
       "<div>\n",
       "<style scoped>\n",
       "    .dataframe tbody tr th:only-of-type {\n",
       "        vertical-align: middle;\n",
       "    }\n",
       "\n",
       "    .dataframe tbody tr th {\n",
       "        vertical-align: top;\n",
       "    }\n",
       "\n",
       "    .dataframe thead th {\n",
       "        text-align: right;\n",
       "    }\n",
       "</style>\n",
       "<table border=\"1\" class=\"dataframe\">\n",
       "  <thead>\n",
       "    <tr style=\"text-align: right;\">\n",
       "      <th></th>\n",
       "      <th>EDUCATION</th>\n",
       "    </tr>\n",
       "  </thead>\n",
       "  <tbody>\n",
       "    <tr>\n",
       "      <th>0</th>\n",
       "      <td>2</td>\n",
       "    </tr>\n",
       "    <tr>\n",
       "      <th>1</th>\n",
       "      <td>2</td>\n",
       "    </tr>\n",
       "    <tr>\n",
       "      <th>2</th>\n",
       "      <td>2</td>\n",
       "    </tr>\n",
       "    <tr>\n",
       "      <th>3</th>\n",
       "      <td>2</td>\n",
       "    </tr>\n",
       "    <tr>\n",
       "      <th>4</th>\n",
       "      <td>2</td>\n",
       "    </tr>\n",
       "  </tbody>\n",
       "</table>\n",
       "</div>"
      ],
      "text/plain": [
       "   EDUCATION\n",
       "0          2\n",
       "1          2\n",
       "2          2\n",
       "3          2\n",
       "4          2"
      ]
     },
     "execution_count": 16,
     "metadata": {},
     "output_type": "execute_result"
    }
   ],
   "source": [
    "enc = preprocessing.OneHotEncoder()\n",
    "data_test = pd.read_csv('UCI_Credit_Card.csv')\n",
    "tuples = (data_test.EDUCATION == 0) | (data_test.EDUCATION == 5) | (data_test.EDUCATION == 6)\n",
    "data_test.loc[tuples,'EDUCATION']=4\n",
    "data_category = data_test['EDUCATION']\n",
    "\n",
    "data_category.shape\n",
    "df1=pd.DataFrame(data_category)\n",
    "df1.head()"
   ]
  },
  {
   "cell_type": "code",
   "execution_count": 165,
   "metadata": {},
   "outputs": [
    {
     "data": {
      "text/plain": [
       "30000"
      ]
     },
     "execution_count": 165,
     "metadata": {},
     "output_type": "execute_result"
    }
   ],
   "source": [
    "df = pd.DataFrame(np.zeros(shape=(30000,4)),columns=['Grad_School', 'University', 'High_School','Others'])\n",
    "df.head()\n",
    "\n",
    "for i in range(100):\n",
    "    if data_category[i] == 1:\n",
    "        df.Grad_School[i] = 1.0\n",
    "    elif data_category[i] == 2:\n",
    "        df.University[i] = 1.0\n",
    "    elif data_category[i] == 3:\n",
    "        df.High_School[i] =1.0\n",
    "    elif data_category[i] == 4:\n",
    "        df.Others[i] =1.0\n",
    "df.shape[0]"
   ]
  },
  {
   "cell_type": "code",
   "execution_count": 164,
   "metadata": {},
   "outputs": [
    {
     "data": {
      "text/html": [
       "<div>\n",
       "<style scoped>\n",
       "    .dataframe tbody tr th:only-of-type {\n",
       "        vertical-align: middle;\n",
       "    }\n",
       "\n",
       "    .dataframe tbody tr th {\n",
       "        vertical-align: top;\n",
       "    }\n",
       "\n",
       "    .dataframe thead th {\n",
       "        text-align: right;\n",
       "    }\n",
       "</style>\n",
       "<table border=\"1\" class=\"dataframe\">\n",
       "  <thead>\n",
       "    <tr style=\"text-align: right;\">\n",
       "      <th></th>\n",
       "      <th>EDUCATION</th>\n",
       "      <th>Grad_School</th>\n",
       "    </tr>\n",
       "  </thead>\n",
       "  <tbody>\n",
       "    <tr>\n",
       "      <th>0</th>\n",
       "      <td>2</td>\n",
       "      <td>0.0</td>\n",
       "    </tr>\n",
       "    <tr>\n",
       "      <th>1</th>\n",
       "      <td>2</td>\n",
       "      <td>0.0</td>\n",
       "    </tr>\n",
       "    <tr>\n",
       "      <th>2</th>\n",
       "      <td>2</td>\n",
       "      <td>0.0</td>\n",
       "    </tr>\n",
       "    <tr>\n",
       "      <th>3</th>\n",
       "      <td>2</td>\n",
       "      <td>0.0</td>\n",
       "    </tr>\n",
       "    <tr>\n",
       "      <th>4</th>\n",
       "      <td>2</td>\n",
       "      <td>0.0</td>\n",
       "    </tr>\n",
       "  </tbody>\n",
       "</table>\n",
       "</div>"
      ],
      "text/plain": [
       "   EDUCATION  Grad_School\n",
       "0          2          0.0\n",
       "1          2          0.0\n",
       "2          2          0.0\n",
       "3          2          0.0\n",
       "4          2          0.0"
      ]
     },
     "execution_count": 164,
     "metadata": {},
     "output_type": "execute_result"
    }
   ],
   "source": [
    "df.head(5)\n",
    "df1['Grad_School'] = df.Grad_School\n",
    "df1['Grad_School'] = df.Grad_School\n",
    "df1['Grad_School'] = df.Grad_School\n",
    "df1['Grad_School'] = df.Grad_School\n",
    "df1.head()\n"
   ]
  },
  {
   "cell_type": "markdown",
   "metadata": {},
   "source": [
    "\n",
    "### Witnessing DataSet : Testing zone"
   ]
  },
  {
   "cell_type": "code",
   "execution_count": 4,
   "metadata": {},
   "outputs": [
    {
     "name": "stdout",
     "output_type": "stream",
     "text": [
      "<class 'pandas.core.frame.DataFrame'>\n",
      "RangeIndex: 30000 entries, 0 to 29999\n",
      "Data columns (total 14 columns):\n",
      "LIMIT_BAL    30000 non-null float64\n",
      "EDUCATION    30000 non-null int64\n",
      "BILL_AMT1    30000 non-null float64\n",
      "BILL_AMT2    30000 non-null float64\n",
      "BILL_AMT3    30000 non-null float64\n",
      "BILL_AMT4    30000 non-null float64\n",
      "BILL_AMT5    30000 non-null float64\n",
      "BILL_AMT6    30000 non-null float64\n",
      "PAY_AMT1     30000 non-null float64\n",
      "PAY_AMT2     30000 non-null float64\n",
      "PAY_AMT3     30000 non-null float64\n",
      "PAY_AMT4     30000 non-null float64\n",
      "PAY_AMT5     30000 non-null float64\n",
      "PAY_AMT6     30000 non-null float64\n",
      "dtypes: float64(13), int64(1)\n",
      "memory usage: 3.2 MB\n",
      "None\n"
     ]
    },
    {
     "data": {
      "text/plain": [
       "(30000,)"
      ]
     },
     "execution_count": 4,
     "metadata": {},
     "output_type": "execute_result"
    }
   ],
   "source": [
    "data = pd.read_csv('UCI_Credit_Card.csv')\n",
    "data.rename(columns={'default.payment.next.month':'target'},inplace = True)\n",
    "feat= ['LIMIT_BAL','EDUCATION','BILL_AMT1','BILL_AMT2','BILL_AMT3','BILL_AMT4','BILL_AMT5','BILL_AMT6','PAY_AMT1','PAY_AMT2','PAY_AMT3','PAY_AMT4','PAY_AMT5','PAY_AMT6','target']\n",
    "dataset = data[feat[:-1]]\n",
    "target =data[feat[-1]]\n",
    "print(dataset.info())\n",
    "target.shape"
   ]
  },
  {
   "cell_type": "code",
   "execution_count": 5,
   "metadata": {},
   "outputs": [
    {
     "data": {
      "text/plain": [
       "sklearn.utils.Bunch"
      ]
     },
     "execution_count": 5,
     "metadata": {},
     "output_type": "execute_result"
    }
   ],
   "source": [
    "dd = load_digits()\n",
    "type(dd)"
   ]
  },
  {
   "cell_type": "code",
   "execution_count": 11,
   "metadata": {},
   "outputs": [
    {
     "ename": "TypeError",
     "evalue": "'builtin_function_or_method' object is not subscriptable",
     "output_type": "error",
     "traceback": [
      "\u001b[0;31m---------------------------------------------------------------------------\u001b[0m",
      "\u001b[0;31mTypeError\u001b[0m                                 Traceback (most recent call last)",
      "\u001b[0;32m<ipython-input-11-50eb3ee8e081>\u001b[0m in \u001b[0;36m<module>\u001b[0;34m()\u001b[0m\n\u001b[0;32m----> 1\u001b[0;31m \u001b[0mx\u001b[0m\u001b[0;34m=\u001b[0m\u001b[0mnp\u001b[0m\u001b[0;34m.\u001b[0m\u001b[0marray\u001b[0m\u001b[0;34m[\u001b[0m\u001b[0;36m1\u001b[0m\u001b[0;34m,\u001b[0m\u001b[0;36m2\u001b[0m\u001b[0;34m,\u001b[0m\u001b[0;36m3\u001b[0m\u001b[0;34m,\u001b[0m\u001b[0;36m4\u001b[0m\u001b[0;34m]\u001b[0m\u001b[0;34m\u001b[0m\u001b[0m\n\u001b[0m\u001b[1;32m      2\u001b[0m \u001b[0mx\u001b[0m\u001b[0;34m[\u001b[0m\u001b[0;34m:\u001b[0m\u001b[0;34m-\u001b[0m\u001b[0;36m1\u001b[0m\u001b[0;34m]\u001b[0m\u001b[0;34m\u001b[0m\u001b[0m\n",
      "\u001b[0;31mTypeError\u001b[0m: 'builtin_function_or_method' object is not subscriptable"
     ]
    }
   ],
   "source": [
    "x=np.array[1,2,3,4]\n",
    "x[:-1]\n"
   ]
  },
  {
   "cell_type": "markdown",
   "metadata": {},
   "source": [
    "### Cleaning Data"
   ]
  },
  {
   "cell_type": "code",
   "execution_count": 12,
   "metadata": {},
   "outputs": [
    {
     "ename": "NameError",
     "evalue": "name 'data_CC' is not defined",
     "output_type": "error",
     "traceback": [
      "\u001b[0;31m---------------------------------------------------------------------------\u001b[0m",
      "\u001b[0;31mNameError\u001b[0m                                 Traceback (most recent call last)",
      "\u001b[0;32m<ipython-input-12-87086c8fcccc>\u001b[0m in \u001b[0;36m<module>\u001b[0;34m()\u001b[0m\n\u001b[0;32m----> 1\u001b[0;31m \u001b[0mdata_CC\u001b[0m\u001b[0;34m[\u001b[0m\u001b[0;34m'MARRIAGE'\u001b[0m\u001b[0;34m]\u001b[0m\u001b[0;34m.\u001b[0m\u001b[0mvalue_counts\u001b[0m\u001b[0;34m(\u001b[0m\u001b[0;34m)\u001b[0m\u001b[0;34m\u001b[0m\u001b[0m\n\u001b[0m",
      "\u001b[0;31mNameError\u001b[0m: name 'data_CC' is not defined"
     ]
    }
   ],
   "source": [
    "data_CC['MARRIAGE'].value_counts()"
   ]
  },
  {
   "cell_type": "code",
   "execution_count": 13,
   "metadata": {},
   "outputs": [
    {
     "ename": "NameError",
     "evalue": "name 'data_CC' is not defined",
     "output_type": "error",
     "traceback": [
      "\u001b[0;31m---------------------------------------------------------------------------\u001b[0m",
      "\u001b[0;31mNameError\u001b[0m                                 Traceback (most recent call last)",
      "\u001b[0;32m<ipython-input-13-3c6ca7a21647>\u001b[0m in \u001b[0;36m<module>\u001b[0;34m()\u001b[0m\n\u001b[0;32m----> 1\u001b[0;31m \u001b[0mdata_CC\u001b[0m\u001b[0;34m[\u001b[0m\u001b[0;34m'EDUCATION'\u001b[0m\u001b[0;34m]\u001b[0m\u001b[0;34m.\u001b[0m\u001b[0mvalue_counts\u001b[0m\u001b[0;34m(\u001b[0m\u001b[0;34m)\u001b[0m\u001b[0;34m\u001b[0m\u001b[0m\n\u001b[0m",
      "\u001b[0;31mNameError\u001b[0m: name 'data_CC' is not defined"
     ]
    }
   ],
   "source": [
    "data_CC['EDUCATION'].value_counts()"
   ]
  },
  {
   "cell_type": "markdown",
   "metadata": {},
   "source": [
    "## Metrics"
   ]
  },
  {
   "cell_type": "markdown",
   "metadata": {},
   "source": [
    "### Confusion Matrix"
   ]
  },
  {
   "cell_type": "code",
   "execution_count": 14,
   "metadata": {},
   "outputs": [],
   "source": [
    "def build_cm(Y,Y_predicted,dim,title,figNo,slot):\n",
    "    #dim: number of distinct labels\n",
    "    score = accuracy_score(Y,Y_predicted)\n",
    "    cm=confusion_matrix(Y,Y_predicted)\n",
    "    figure=plt.figure(num=figNo,figsize=(15,15))\n",
    "    plt.suptitle(title,fontsize=16)\n",
    "    plt.subplots_adjust(hspace=0.2, wspace=1.4)\n",
    "    plt.subplot(2,2,slot)\n",
    "    sb.heatmap(cm,annot=True,fmt=\".2f\",square =True,cmap='Reds')\n",
    "    plt.xlabel(\"True label\")\n",
    "    plt.ylabel(\"Predicted label\")\n",
    "    act_title = title+\"| \"+\"Accuracy:{}\".format(score)\n",
    "    plt.title(act_title)"
   ]
  },
  {
   "cell_type": "code",
   "execution_count": 23,
   "metadata": {},
   "outputs": [],
   "source": [
    "slot = 1"
   ]
  },
  {
   "cell_type": "markdown",
   "metadata": {},
   "source": [
    "## Loading DataSet"
   ]
  },
  {
   "cell_type": "markdown",
   "metadata": {},
   "source": [
    "##### Credit Card DataSet"
   ]
  },
  {
   "cell_type": "code",
   "execution_count": 25,
   "metadata": {},
   "outputs": [
    {
     "name": "stderr",
     "output_type": "stream",
     "text": [
      "/Users/ashishdwivedi/anaconda3/envs/ml-lib/lib/python3.5/site-packages/ipykernel_launcher.py:25: SettingWithCopyWarning: \n",
      "A value is trying to be set on a copy of a slice from a DataFrame.\n",
      "Try using .loc[row_indexer,col_indexer] = value instead\n",
      "\n",
      "See the caveats in the documentation: http://pandas.pydata.org/pandas-docs/stable/indexing.html#indexing-view-versus-copy\n",
      "/Users/ashishdwivedi/anaconda3/envs/ml-lib/lib/python3.5/site-packages/ipykernel_launcher.py:26: SettingWithCopyWarning: \n",
      "A value is trying to be set on a copy of a slice from a DataFrame.\n",
      "Try using .loc[row_indexer,col_indexer] = value instead\n",
      "\n",
      "See the caveats in the documentation: http://pandas.pydata.org/pandas-docs/stable/indexing.html#indexing-view-versus-copy\n",
      "/Users/ashishdwivedi/anaconda3/envs/ml-lib/lib/python3.5/site-packages/ipykernel_launcher.py:27: SettingWithCopyWarning: \n",
      "A value is trying to be set on a copy of a slice from a DataFrame.\n",
      "Try using .loc[row_indexer,col_indexer] = value instead\n",
      "\n",
      "See the caveats in the documentation: http://pandas.pydata.org/pandas-docs/stable/indexing.html#indexing-view-versus-copy\n",
      "/Users/ashishdwivedi/anaconda3/envs/ml-lib/lib/python3.5/site-packages/ipykernel_launcher.py:28: SettingWithCopyWarning: \n",
      "A value is trying to be set on a copy of a slice from a DataFrame.\n",
      "Try using .loc[row_indexer,col_indexer] = value instead\n",
      "\n",
      "See the caveats in the documentation: http://pandas.pydata.org/pandas-docs/stable/indexing.html#indexing-view-versus-copy\n",
      "/Users/ashishdwivedi/anaconda3/envs/ml-lib/lib/python3.5/site-packages/ipykernel_launcher.py:33: SettingWithCopyWarning: \n",
      "A value is trying to be set on a copy of a slice from a DataFrame\n",
      "\n",
      "See the caveats in the documentation: http://pandas.pydata.org/pandas-docs/stable/indexing.html#indexing-view-versus-copy\n",
      "/Users/ashishdwivedi/anaconda3/envs/ml-lib/lib/python3.5/site-packages/sklearn/utils/validation.py:578: DataConversionWarning: A column-vector y was passed when a 1d array was expected. Please change the shape of y to (n_samples, ), for example using ravel().\n",
      "  y = column_or_1d(y, warn=True)\n"
     ]
    },
    {
     "name": "stdout",
     "output_type": "stream",
     "text": [
      "CreditCard Logistic Regression F1-score:0.0\n",
      "(4500, 17)\n"
     ]
    },
    {
     "data": {
      "image/png": "[encoded data removed]",
      "text/plain": [
       "<Figure size 1080x1080 with 1 Axes>"
      ]
     },
     "metadata": {},
     "output_type": "display_data"
    }
   ],
   "source": [
    "CreditCard()"
   ]
  },
  {
   "cell_type": "code",
   "execution_count": 24,
   "metadata": {},
   "outputs": [],
   "source": [
    "def CreditCard():\n",
    "    data_CC=pd.read_csv('UCI_Credit_Card.csv')\n",
    "    #####----------------Cleaning the data----------------#######\n",
    "    tuples = data_CC.MARRIAGE == 0\n",
    "    data_CC.loc[tuples,'MARRIAGE']=3\n",
    "    tuples = (data_CC.EDUCATION == 0) | (data_CC.EDUCATION == 5) | (data_CC.EDUCATION == 6)\n",
    "    data_CC.loc[tuples,'EDUCATION']=4\n",
    "    data_CC.rename(columns={'default.payment.next.month':'target'},inplace = True)\n",
    "    feat_data_CC = ['LIMIT_BAL','EDUCATION','BILL_AMT1','BILL_AMT2','BILL_AMT3','BILL_AMT4','BILL_AMT5','BILL_AMT6','PAY_AMT1','PAY_AMT2','PAY_AMT3','PAY_AMT4','PAY_AMT5','PAY_AMT6','target']\n",
    "    dataset=data_CC[feat_data_CC]\n",
    "    ###############################################################\n",
    "    \n",
    "    ################---------- One Hot Encoding --------------################\n",
    "    df = pd.DataFrame(np.zeros(shape=(30000,4)),columns=['Grad_School', 'University', 'High_School','Others'])\n",
    "    for i in range(df.shape[0]):\n",
    "        if dataset.EDUCATION[i] == 1:\n",
    "            df.Grad_School[i] = 1.0\n",
    "        elif dataset.EDUCATION[i] == 2:\n",
    "            df.University[i] = 1.0\n",
    "        elif dataset.EDUCATION[i] == 3:\n",
    "            df.High_School[i] =1.0\n",
    "        elif dataset.EDUCATION[i] == 4:\n",
    "            df.Others[i] =1.0\n",
    "    \n",
    "    dataset['Grad_School'] =df.Grad_School\n",
    "    dataset['University'] = df.University\n",
    "    dataset['High_School'] = df.High_School\n",
    "    dataset['Edu_Others'] = df.Others\n",
    "    \n",
    "    target = dataset['target']\n",
    "    target = pd.DataFrame(target)\n",
    "    #print(type(dataset))\n",
    "    dataset.drop(['EDUCATION','target'],axis=1,inplace=True)\n",
    "    #print(dataset.columns)\n",
    "    #print(dataset.head(1))\n",
    "    #print(target.head(2))\n",
    "    ################--------One Hot Encoding End -------------#################\n",
    "    \n",
    "    \n",
    "    \n",
    "    ##------------------ train_test_split------------------##\n",
    "    \n",
    "    X_train,X_test,Y_train,Y_test = train_test_split(dataset,target,test_size=0.15,random_state = 20, shuffle=True)\n",
    "#     X_train = train[feat_data_CC[:-1]]\n",
    "#     Y_train = train[feat_data_CC[-1]]\n",
    "\n",
    "#     X_test = test[feat_data_CC[:-1]]\n",
    "#     Y_test = test[feat_data_CC[-1]]\n",
    "    ################################################################\n",
    "    \n",
    "      ################--------Normalize------------------#############\n",
    "    scaler =preprocessing.StandardScaler()\n",
    "    scaler.fit(X_train)\n",
    "    scaler.transform(X_train)\n",
    "    scaler.transform(X_test)\n",
    "    \n",
    "    ##############------ End Normalize----################\n",
    "    #-------------different classification techniques ----------------\n",
    "    #figNo = 1\n",
    "    #decisionTree(X_train,X_test,Y_train,Y_test,True,2,'CreditCard',1,1)\n",
    "    logistic_Regression(X_train,X_test,Y_train,Y_test,True,2,'CreditCard',2,2)\n",
    "    #build_SVM(X_train,X_test,Y_train,Y_test,True,2,'CreditCard',3,3)\n",
    "    #kNN(X_train,X_test,Y_train,Y_test,True,2,'CreditCard',4,4)\n",
    "    "
   ]
  },
  {
   "cell_type": "code",
   "execution_count": 16,
   "metadata": {},
   "outputs": [
    {
     "data": {
      "text/plain": [
       "sklearn.utils.Bunch"
      ]
     },
     "execution_count": 16,
     "metadata": {},
     "output_type": "execute_result"
    }
   ],
   "source": [
    "data = pd.read_csv('UCI_Credit_Card.csv') ## this shows no need to convert to dat\n",
    "data.head(5)\n",
    "data_mnist = load_digits()\n",
    "type(data_mnist)"
   ]
  },
  {
   "cell_type": "markdown",
   "metadata": {},
   "source": [
    "#### MNIST DATASET"
   ]
  },
  {
   "cell_type": "code",
   "execution_count": 6,
   "metadata": {},
   "outputs": [],
   "source": [
    "def MNIST():\n",
    "    digit_data = load_digits()\n",
    "    X_train,X_test,Y_train,Y_test = train_test_split(digit_data.data,digit_data.target,test_size=0.15,random_state=20,shuffle=True)\n",
    "    \n",
    "    ## normalization is not required though a normalized data below\n",
    "    ####------------ Normalization-------####\n",
    "    ###### StandardScaler : Standardize by removing mean and scaling to unit variance\n",
    "    scaler =preprocessing.StandardScaler()\n",
    "    scaler.fit(X_train)\n",
    "    scaler.transform(X_train)\n",
    "    scaler.transform(X_test)\n",
    "    \n",
    "    ############\n",
    "    \n",
    "    figNo = 2\n",
    "    ###------------- Calling Classifiers---------###\n",
    "    decisionTree(X_train,X_test,Y_train,Y_test,False,10,'MNIST',5,1)\n",
    "    #logistic_Regression(X_train,X_test,Y_train,Y_test,False,10,'MNIST',6,2)\n",
    "    #build_SVM(X_train,X_test,Y_train,Y_test,False,10,'MNIST',7,3)\n",
    "    #kNN(X_train,X_test,Y_train,Y_test,False,10,'MNIST',8,4)"
   ]
  },
  {
   "cell_type": "markdown",
   "metadata": {},
   "source": [
    "## Classifiers"
   ]
  },
  {
   "cell_type": "markdown",
   "metadata": {},
   "source": [
    "### Building Decision Tree Model"
   ]
  },
  {
   "cell_type": "code",
   "execution_count": 19,
   "metadata": {},
   "outputs": [],
   "source": [
    "def decisionTree(X_train,X_test,Y_train,Y_test,CC,dim,title,figNo,slot):\n",
    "    dt_classifier = DecisionTreeClassifier(criterion='gini',splitter='best',min_samples_split=150,random_state=10)\n",
    "    dt_model = dt_classifier.fit(X_train,Y_train)\n",
    "    \n",
    "    Y_test_pred = dt_model.predict(X_test)\n",
    "    \n",
    "    Y_train_pred = dt_model.predict(X_train)\n",
    "    print(dt_model.get_params())\n",
    "    if CC: ## F1 score\n",
    "        print(title+' Decision Tree '+'F1-score:{}'.format(f1_score(Y_test,Y_test_pred)))\n",
    "        print(title+' Decision Tree '+'precision-score:{}'.format(precision_score(Y_test,Y_test_pred,)))\n",
    "        print(title+' Decision Tree '+'F1-score:{}'.format(recall_score(Y_test,Y_test_pred)))\n",
    "\n",
    "\n",
    "    ############---------------------- ROC CURVE-------------------###############\n",
    "        #print(X_test.shape)\n",
    "        y_score = dt_model.predict_proba(X_test)\n",
    "        #print(y_score[:,0])\n",
    "        #print (type(y_score),y_score.shape,type(Y_test),Y_test.shape)\n",
    "        fpr,tpr,threshold = roc_curve(Y_test,y_score[:,1],pos_label=1)\n",
    "        \n",
    "        #####----Plotting ROC curve----####\n",
    "        plt.figure(num=figNo,figsize=(15,15))\n",
    "        plt.subplot(2,2,1)\n",
    "        plt.plot(fpr,tpr)\n",
    "        plt.xlabel('False Positive Rate')\n",
    "        plt.ylabel('Total Positive Rate')\n",
    "        plt.title('Receiver Operating Characteristic')\n",
    "        \n",
    "        #####----Plotting ROC done-----#####\n",
    "    ####################---------------- ROC END --------##############################\n",
    "\n",
    "    ############---------------------- TOP N Accuracy  ---------------###############\n",
    "    if CC ==False:\n",
    "        count=0\n",
    "        total_example_test = Y_test.shape[0]\n",
    "        y_score = dt_model.predict_proba(X_test)\n",
    "        #print(y_score[1:3,:])\n",
    "        #print(type(y_score))\n",
    "        sorted_index_top = np.argsort(y_score) # top 3 classes as per probability #reversing the sorted_index\n",
    "        print(Y_test_pred.shape,X_test.shape,Y_test.shape)\n",
    "        ## Pulling top 3 predictions\n",
    "        top_3 = sorted_index_top[:,7:10]\n",
    "        #print(type(top_3))\n",
    "        #X_test.shape[0]\n",
    "        for i in range(Y_test.shape[0]):\n",
    "#             print(\"Y_test_pred\",Y_test_pred[i])\n",
    "#             print(\"top 3\",top_3[i,:])\n",
    "#             print('Y_test',Y_test[i])\n",
    "#             print('------------------------------')\n",
    "            if (Y_test[i] in top_3[i,:]) == True:\n",
    "#                 print(\"Y_test_pred\",Y_test_pred[i])\n",
    "#                 print(\"top 3\",top_3[i,0:4])\n",
    "#                 print('Y_test',Y_test[i])\n",
    "#                 print('Bool',Y_test_pred[i] in top_3[i,0:4])\n",
    "                count =count + 1\n",
    "#                 print('count',count)\n",
    "#                 print('------------------------------')\n",
    "\n",
    "#             else:\n",
    "#                 print('Bool',Y_test_pred[i] in top_3[i,:])\n",
    "#                 print('Sorted Index Descedning in value')\n",
    "#                 print(sorted_index_top[i,:],top_3[i,:])\n",
    "#                 print(y_score[i,:])\n",
    "#                 print('Y_test_pred',Y_test_pred[i],'Y_true_test',Y_test[i])\n",
    "#                 print('Check th output')\n",
    "#                 print(np.argsort(y_score[i,:]))\n",
    "#                 print(np.argsort(y_score[i,:])[::-1])\n",
    "#                 print('------------------------------')\n",
    "                \n",
    "        print('Top 3 accuracy {}'.format(count/total_example_test))\n",
    "        print('Top 1 accuracy{}'.format(accuracy_score(Y_test,Y_test_pred)))\n",
    "    \n",
    "    ############---------------------- TOP N Accuracy End -------------------###############\n",
    "\n",
    "\n",
    "    \n",
    "    ##########------ConfusionMatrix----------###############\n",
    "    #build_cm(Y_test,Y_test_pred,dim,title +'|test',figNo,2)\n",
    "    #build_cm(Y_train,Y_train_pred,dim,title +'|train',figNo,4)\n",
    "    "
   ]
  },
  {
   "cell_type": "code",
   "execution_count": null,
   "metadata": {},
   "outputs": [],
   "source": []
  },
  {
   "cell_type": "code",
   "execution_count": 22,
   "metadata": {},
   "outputs": [
    {
     "data": {
      "text/plain": [
       "array([[1, 2],\n",
       "       [3, 4],\n",
       "       [5, 6]])"
      ]
     },
     "execution_count": 22,
     "metadata": {},
     "output_type": "execute_result"
    }
   ],
   "source": [
    "#do it later\n",
    "#def wanna_see_DT(model,feature,filename):\n",
    "\n",
    "test = np.array([[1, 2,7], [3, 4,8], [5, 6,9]])\n",
    "test[:,0:2]"
   ]
  },
  {
   "cell_type": "markdown",
   "metadata": {},
   "source": [
    "## Logistic Regression"
   ]
  },
  {
   "cell_type": "code",
   "execution_count": 23,
   "metadata": {},
   "outputs": [],
   "source": [
    "def logistic_Regression(X_train,X_test,Y_train,Y_test,CC,dim,title,figNo,slot):\n",
    "    log_Reg = LogisticRegression()\n",
    "    log_model = log_Reg.fit(X_train,Y_train)\n",
    "    \n",
    "    Y_test_pred =log_model.predict(X_test)\n",
    "    \n",
    "    Y_train_pred = log_model.predict(X_train)\n",
    "    \n",
    "    if CC:\n",
    "        print(title+' Logistic Regression '+'F1-score:{}'.format(f1_score(Y_test,Y_test_pred)))\n",
    "    ############---------------------- ROC CURVE-------------------###############\n",
    "        print(X_test.shape)\n",
    "        y_score = log_model.predict_proba(X_test)\n",
    "        #print(y_score[1:3,0:2])\n",
    "        #print (type(y_score),y_score.shape,type(Y_test),Y_test.shape)\n",
    "        fpr,tpr,threshold = roc_curve(Y_test,y_score[:,1],pos_label=1)\n",
    "        \n",
    "        #####----Plotting ROC curve----####\n",
    "        plt.figure(num=figNo,figsize=(15,15))\n",
    "        plt.subplot(2,2,1)\n",
    "        plt.plot(fpr,tpr)\n",
    "        plt.xlabel('False Positive Rate')\n",
    "        plt.ylabel('Total Positive Rate')\n",
    "        plt.title('Receiver Operating Characteristic')\n",
    "        \n",
    "    ##############----Plotting ROC done--------------------------------#################\n",
    "    ############---------------------- TOP N Accuracy  ---------------###############\n",
    "    if CC ==False:\n",
    "        count=0\n",
    "        total_example_test = Y_test.shape[0]\n",
    "        y_score = log_model.predict_proba(X_test)\n",
    "        #print(y_score[1:3,:])\n",
    "        #print(type(y_score))\n",
    "        sorted_index_top = np.argsort(y_score) # top 3 classes as per probability #reversing the sorted_index\n",
    "        print(Y_test_pred.shape,X_test.shape,Y_test.shape)\n",
    "        ## Pulling top 3 predictions\n",
    "        top_3 = sorted_index_top[:,7:10]\n",
    "        #print(type(top_3))\n",
    "        #X_test.shape[0]\n",
    "        for i in range(Y_test.shape[0]):\n",
    "            if (Y_test[i] in top_3[i,:]) == True:\n",
    "                count =count + 1\n",
    "        print('Top 3 accuracy {}'.format(count/total_example_test))\n",
    "        print('Top 1 accuracy{}'.format(accuracy_score(Y_test,Y_test_pred)))\n",
    "    \n",
    "    ############---------------------- TOP N Accuracy End -------------------###############\n",
    "\n",
    "\n",
    "    ##############------ConfusionMatrix-------------#################\n",
    "    #build_cm(Y_test,Y_test_pred,dim,title+'|test',figNo,2)\n",
    "    #build_cm(Y_train,Y_train_pred,dim,title+'|train',figNo,4)"
   ]
  },
  {
   "cell_type": "markdown",
   "metadata": {},
   "source": [
    "### SVM Implementation"
   ]
  },
  {
   "cell_type": "code",
   "execution_count": 9,
   "metadata": {},
   "outputs": [],
   "source": [
    "def build_SVM(X_train,X_test,Y_train,Y_test,CC,dim,title,figNo,slot):\n",
    "    svm_classifier = SVC(kernel='linear')\n",
    "    svm_model = svm_classifier.fit(X_train,Y_train)\n",
    "    \n",
    "    Y_test_pred =svm_model.predict(X_test)\n",
    "    \n",
    "    Y_train_pred = svm_model.predict(X_train)\n",
    "    if CC:\n",
    "        print(title+' SVM '+'F1-score:{}'.format(f1_score(Y_test,Y_test_pred)))\n",
    "        ############---------------------- ROC CURVE-------------------###############\n",
    "        print(X_test.shape)\n",
    "        y_score = svm_model.predict_proba(X_test)\n",
    "        print(y_score[:,0])\n",
    "        #print (type(y_score),y_score.shape,type(Y_test),Y_test.shape)\n",
    "        fpr,tpr,threshold = roc_curve(Y_test,y_score[:,1],pos_label=1)\n",
    "        \n",
    "        #####----Plotting ROC curve----####\n",
    "        plt.figure(num=figNo,figsize=(15,15))\n",
    "        plt.subplot(2,2,1)\n",
    "        plt.plot(fpr,tpr)\n",
    "        plt.xlabel('False Positive Rate')\n",
    "        plt.ylabel('Total Positive Rate')\n",
    "        plt.title('Receiver Operating Characteristic')\n",
    "        \n",
    "        #####----Plotting ROC done-----#####\n",
    "    ############---------------------- TOP N Accuracy  ---------------###############\n",
    "    if CC ==False:\n",
    "        count=0\n",
    "        total_example_test = Y_test.shape[0]\n",
    "        y_score = dt_model.predict_proba(X_test)\n",
    "        #print(y_score[1:3,:])\n",
    "        #print(type(y_score))\n",
    "        sorted_index_top = np.argsort(y_score) # top 3 classes as per probability #reversing the sorted_index\n",
    "        print(Y_test_pred.shape,X_test.shape,Y_test.shape)\n",
    "        ## Pulling top 3 predictions\n",
    "        top_3 = sorted_index_top[:,7:10]\n",
    "        #print(type(top_3))\n",
    "        #X_test.shape[0]\n",
    "        for i in range(Y_test.shape[0]):\n",
    "            if (Y_test[i] in top_3[i,:]) == True:\n",
    "                count =count + 1\n",
    "        print('Top 3 accuracy {}'.format(count/total_example_test))\n",
    "        print('Top 1 accuracy{}'.format(accuracy_score(Y_test,Y_test_pred)))\n",
    "    \n",
    "    ############---------------------- TOP N Accuracy End -------------------###############\n",
    "\n",
    "\n",
    "    \n",
    "    ####------------Confusion Matrix----#####\n",
    "    build_cm(Y_test,Y_test_pred,dim,title+'|test',figNo,2)\n",
    "    build_cm(Y_train,Y_train_pred,dim,title+'|train',figNo,4)\n",
    "    \n",
    "    "
   ]
  },
  {
   "cell_type": "markdown",
   "metadata": {},
   "source": [
    "#### KNN Implementation"
   ]
  },
  {
   "cell_type": "code",
   "execution_count": 10,
   "metadata": {},
   "outputs": [],
   "source": [
    "def kNN(X_train,X_test,Y_train,Y_test,CC,dim,title,figNo,slot):\n",
    "    knn_clf = KNeighborsClassifier()\n",
    "    knn_model = knn_clf.fit(X_train,Y_train)\n",
    "    \n",
    "    Y_test_pred =knn_model.predict(X_test)    \n",
    "    Y_train_pred = knn_model.predict(X_train)\n",
    "    if CC:\n",
    "        print(title+' KNN '+'F1-score:{}'.format(f1_score(Y_test,Y_test_pred)))\n",
    "        ############---------------------- ROC CURVE-------------------###############\n",
    "        print(X_test.shape)\n",
    "        y_score = knn_model.predict_proba(X_test)\n",
    "        #print(y_score[1:3,0:2])\n",
    "        #print (type(y_score),y_score.shape,type(Y_test),Y_test.shape)\n",
    "        fpr,tpr,threshold = roc_curve(Y_test,y_score[:,1],pos_label=1)\n",
    "        \n",
    "        #####----Plotting ROC curve----####\n",
    "        plt.figure(num=figNo,figsize=(15,15))\n",
    "        plt.subplot(2,2,1)\n",
    "        plt.plot(fpr,tpr)\n",
    "        plt.xlabel('False Positive Rate')\n",
    "        plt.ylabel('Total Positive Rate')\n",
    "        plt.title('Receiver Operating Characteristic')\n",
    "        \n",
    "        #####----Plotting ROC done-----#####\n",
    "    ############---------------------- TOP N Accuracy  ---------------###############\n",
    "    if CC ==False:\n",
    "        count=0\n",
    "        total_example_test = Y_test.shape[0]\n",
    "        y_score = knn_model.predict_proba(X_test)\n",
    "        #print(y_score[1:3,:])\n",
    "        #print(type(y_score))\n",
    "        sorted_index_top = np.argsort(y_score) # top 3 classes as per probability #reversing the sorted_index\n",
    "        print(Y_test_pred.shape,X_test.shape,Y_test.shape)\n",
    "        ## Pulling top 3 predictions\n",
    "        top_3 = sorted_index_top[:,7:10]\n",
    "        #print(type(top_3))\n",
    "        #X_test.shape[0]\n",
    "        for i in range(Y_test.shape[0]):\n",
    "            if (Y_test[i] in top_3[i,:]) == True:\n",
    "                count =count + 1\n",
    "        print('Top 3 accuracy {}'.format(count/total_example_test))\n",
    "        print('Top 1 accuracy{}'.format(accuracy_score(Y_test,Y_test_pred)))\n",
    "    \n",
    "    ############---------------------- TOP N Accuracy End -------------------###############\n",
    "\n",
    "\n",
    "\n",
    "    \n",
    "    ####--------ConfusionMatrix---####\n",
    "    build_cm(Y_test,Y_test_pred,dim,title+'|test',figNo,2)\n",
    "    build_cm(Y_train,Y_train_pred,dim,title+'|train',figNo,4)"
   ]
  },
  {
   "cell_type": "markdown",
   "metadata": {},
   "source": [
    "## Main Function"
   ]
  },
  {
   "cell_type": "code",
   "execution_count": 177,
   "metadata": {},
   "outputs": [
    {
     "name": "stderr",
     "output_type": "stream",
     "text": [
      "/Users/ashishdwivedi/anaconda3/envs/ml-lib/lib/python3.5/site-packages/ipykernel_launcher.py:25: SettingWithCopyWarning: \n",
      "A value is trying to be set on a copy of a slice from a DataFrame.\n",
      "Try using .loc[row_indexer,col_indexer] = value instead\n",
      "\n",
      "See the caveats in the documentation: http://pandas.pydata.org/pandas-docs/stable/indexing.html#indexing-view-versus-copy\n",
      "/Users/ashishdwivedi/anaconda3/envs/ml-lib/lib/python3.5/site-packages/ipykernel_launcher.py:26: SettingWithCopyWarning: \n",
      "A value is trying to be set on a copy of a slice from a DataFrame.\n",
      "Try using .loc[row_indexer,col_indexer] = value instead\n",
      "\n",
      "See the caveats in the documentation: http://pandas.pydata.org/pandas-docs/stable/indexing.html#indexing-view-versus-copy\n",
      "/Users/ashishdwivedi/anaconda3/envs/ml-lib/lib/python3.5/site-packages/ipykernel_launcher.py:27: SettingWithCopyWarning: \n",
      "A value is trying to be set on a copy of a slice from a DataFrame.\n",
      "Try using .loc[row_indexer,col_indexer] = value instead\n",
      "\n",
      "See the caveats in the documentation: http://pandas.pydata.org/pandas-docs/stable/indexing.html#indexing-view-versus-copy\n",
      "/Users/ashishdwivedi/anaconda3/envs/ml-lib/lib/python3.5/site-packages/ipykernel_launcher.py:28: SettingWithCopyWarning: \n",
      "A value is trying to be set on a copy of a slice from a DataFrame.\n",
      "Try using .loc[row_indexer,col_indexer] = value instead\n",
      "\n",
      "See the caveats in the documentation: http://pandas.pydata.org/pandas-docs/stable/indexing.html#indexing-view-versus-copy\n"
     ]
    },
    {
     "name": "stdout",
     "output_type": "stream",
     "text": [
      "   LIMIT_BAL  EDUCATION  BILL_AMT1  BILL_AMT2  BILL_AMT3  BILL_AMT4  \\\n",
      "0    20000.0          2     3913.0     3102.0      689.0        0.0   \n",
      "\n",
      "   BILL_AMT5  BILL_AMT6  PAY_AMT1  PAY_AMT2  PAY_AMT3  PAY_AMT4  PAY_AMT5  \\\n",
      "0        0.0        0.0       0.0     689.0       0.0       0.0       0.0   \n",
      "\n",
      "   PAY_AMT6  target  Grad_School  University  High_School  Edu_Others  \n",
      "0       0.0       1          0.0         1.0          0.0         0.0  \n",
      "   target\n",
      "0       1\n",
      "1       1\n",
      "{'min_impurity_decrease': 0.0, 'min_impurity_split': None, 'min_weight_fraction_leaf': 0.0, 'max_features': None, 'max_leaf_nodes': None, 'min_samples_leaf': 1, 'presort': False, 'class_weight': None, 'splitter': 'best', 'max_depth': None, 'random_state': 10, 'min_samples_split': 150, 'criterion': 'gini'}\n",
      "CreditCard Decision Tree F1-score:1.0\n",
      "(4500, 19)\n",
      "[1. 1. 1. ... 1. 1. 1.]\n"
     ]
    },
    {
     "data": {
      "image/png": "[encoded data removed]",
      "text/plain": [
       "<Figure size 1080x1080 with 1 Axes>"
      ]
     },
     "metadata": {},
     "output_type": "display_data"
    }
   ],
   "source": [
    "if __name__== \"__main__\":\n",
    "    CreditCard()"
   ]
  },
  {
   "cell_type": "code",
   "execution_count": 236,
   "metadata": {},
   "outputs": [],
   "source": [
    "n = np.array(['4','1','.7','5'])\n",
    "x=np.argsort(n)"
   ]
  },
  {
   "cell_type": "code",
   "execution_count": 286,
   "metadata": {},
   "outputs": [],
   "source": [
    "val=np.array(['100'])"
   ]
  },
  {
   "cell_type": "code",
   "execution_count": 288,
   "metadata": {},
   "outputs": [
    {
     "ename": "TypeError",
     "evalue": "ufunc 'multiply' did not contain a loop with signature matching types dtype('<U3') dtype('<U3') dtype('<U3')",
     "output_type": "error",
     "traceback": [
      "\u001b[0;31m---------------------------------------------------------------------------\u001b[0m",
      "\u001b[0;31mTypeError\u001b[0m                                 Traceback (most recent call last)",
      "\u001b[0;32m<ipython-input-288-f514eecd5782>\u001b[0m in \u001b[0;36m<module>\u001b[0;34m()\u001b[0m\n\u001b[0;32m----> 1\u001b[0;31m \u001b[0my\u001b[0m\u001b[0;34m=\u001b[0m\u001b[0mnp\u001b[0m\u001b[0;34m.\u001b[0m\u001b[0mmultiply\u001b[0m\u001b[0;34m(\u001b[0m\u001b[0mn\u001b[0m\u001b[0;34m,\u001b[0m\u001b[0mval\u001b[0m\u001b[0;34m)\u001b[0m\u001b[0;34m\u001b[0m\u001b[0m\n\u001b[0m",
      "\u001b[0;31mTypeError\u001b[0m: ufunc 'multiply' did not contain a loop with signature matching types dtype('<U3') dtype('<U3') dtype('<U3')"
     ]
    }
   ],
   "source": [
    "y=np.multiply(n,val)"
   ]
  },
  {
   "cell_type": "code",
   "execution_count": 255,
   "metadata": {},
   "outputs": [
    {
     "data": {
      "text/plain": [
       "False"
      ]
     },
     "execution_count": 255,
     "metadata": {},
     "output_type": "execute_result"
    }
   ],
   "source": [
    "3 in x[0:2]\n",
    "#x[0:1]"
   ]
  },
  {
   "cell_type": "code",
   "execution_count": 59,
   "metadata": {},
   "outputs": [],
   "source": [
    "z=np.ndarray(shape=(4,4), dtype=float, order='F')\n"
   ]
  },
  {
   "cell_type": "code",
   "execution_count": 216,
   "metadata": {},
   "outputs": [
    {
     "data": {
      "text/plain": [
       "('1', '2')"
      ]
     },
     "execution_count": 216,
     "metadata": {},
     "output_type": "execute_result"
    }
   ],
   "source": [
    "x"
   ]
  },
  {
   "cell_type": "code",
   "execution_count": 60,
   "metadata": {},
   "outputs": [
    {
     "data": {
      "text/plain": [
       "array([[-2.31584178e+077,  2.24650069e-314,  2.25005052e-314,\n",
       "         2.24769677e-314],\n",
       "       [ 1.29073923e-231,  2.24650069e-314,  2.24748603e-314,\n",
       "         2.24684280e-314],\n",
       "       [ 2.25740513e-314,  2.25476847e-314,  0.00000000e+000,\n",
       "         0.00000000e+000],\n",
       "       [ 2.24678658e-314,  2.24687457e-314,  0.00000000e+000,\n",
       "         1.11253919e-308]])"
      ]
     },
     "execution_count": 60,
     "metadata": {},
     "output_type": "execute_result"
    }
   ],
   "source": [
    "z"
   ]
  },
  {
   "cell_type": "code",
   "execution_count": 61,
   "metadata": {},
   "outputs": [
    {
     "data": {
      "text/plain": [
       "array([[ 2.24678658e-314,  2.24687457e-314,  0.00000000e+000,\n",
       "         1.11253919e-308],\n",
       "       [ 2.25740513e-314,  2.25476847e-314,  0.00000000e+000,\n",
       "         0.00000000e+000],\n",
       "       [ 1.29073923e-231,  2.24650069e-314,  2.24748603e-314,\n",
       "         2.24684280e-314],\n",
       "       [-2.31584178e+077,  2.24650069e-314,  2.25005052e-314,\n",
       "         2.24769677e-314]])"
      ]
     },
     "execution_count": 61,
     "metadata": {},
     "output_type": "execute_result"
    }
   ],
   "source": [
    "z[::-1]"
   ]
  },
  {
   "cell_type": "code",
   "execution_count": 212,
   "metadata": {},
   "outputs": [
    {
     "data": {
      "text/plain": [
       "tuple"
      ]
     },
     "execution_count": 212,
     "metadata": {},
     "output_type": "execute_result"
    }
   ],
   "source": [
    "type(x)"
   ]
  },
  {
   "cell_type": "code",
   "execution_count": 215,
   "metadata": {},
   "outputs": [
    {
     "data": {
      "text/plain": [
       "'1'"
      ]
     },
     "execution_count": 215,
     "metadata": {},
     "output_type": "execute_result"
    }
   ],
   "source": []
  },
  {
   "cell_type": "code",
   "execution_count": null,
   "metadata": {},
   "outputs": [],
   "source": []
  }
 ],
 "metadata": {
  "kernelspec": {
   "display_name": "PY35",
   "language": "python",
   "name": "ml-lib"
  },
  "language_info": {
   "codemirror_mode": {
    "name": "ipython",
    "version": 3
   },
   "file_extension": ".py",
   "mimetype": "text/x-python",
   "name": "python",
   "nbconvert_exporter": "python",
   "pygments_lexer": "ipython3",
   "version": "3.5.4"
  }
 },
 "nbformat": 4,
 "nbformat_minor": 2
}
